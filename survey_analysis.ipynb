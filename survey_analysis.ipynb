{
 "cells": [
  {
   "cell_type": "code",
   "execution_count": null,
   "id": "e1b08c85-d642-4758-84cd-9516982721ae",
   "metadata": {},
   "outputs": [],
   "source": [
    "import pandas as pd\n",
    "import seaborn as sns\n",
    "import matplotlib.pyplot as plt\n",
    "import pingouin as pg\n",
    "\n",
    "# Load the mock CSV data\n",
    "df = pd.read_csv(\"mock_survey_data.csv\")\n",
    "\n",
    "# Cronbach's Alpha for 'support' items\n",
    "support = df[['support_1', 'support_2', 'support_3']]\n",
    "alpha, _ = pg.cronbach_alpha(support)\n",
    "print(\"Support Cronbach’s Alpha:\", round(alpha, 3))\n",
    "\n",
    "# Compute averages for correlation\n",
    "df['support_avg'] = support.mean(axis=1)\n",
    "df['micro_avg'] = df[['micro_1', 'micro_2', 'micro_3']].mean(axis=1)\n",
    "df['validation_avg'] = df[['validation_1', 'validation_2', 'validation_3']].mean(axis=1)\n",
    "\n",
    "# Correlation matrix\n",
    "corr = df[['support_avg', 'micro_avg', 'validation_avg', 'satisfaction', 'performance']].corr(method='spearman')\n",
    "print(\"\\nSpearman Correlation Matrix:\\n\", corr)\n",
    "\n",
    "# Heatmap visualization\n",
    "sns.heatmap(corr, annot=True, cmap=\"coolwarm\", vmin=-1, vmax=1)\n",
    "plt.title(\"Spearman Correlation Heatmap\")\n",
    "plt.show()\n"
   ]
  }
 ],
 "metadata": {
  "kernelspec": {
   "display_name": "Python 3 (ipykernel)",
   "language": "python",
   "name": "python3"
  },
  "language_info": {
   "codemirror_mode": {
    "name": "ipython",
    "version": 3
   },
   "file_extension": ".py",
   "mimetype": "text/x-python",
   "name": "python",
   "nbconvert_exporter": "python",
   "pygments_lexer": "ipython3",
   "version": "3.10.8"
  }
 },
 "nbformat": 4,
 "nbformat_minor": 5
}
